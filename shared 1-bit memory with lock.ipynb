{
 "cells": [
  {
   "cell_type": "code",
   "execution_count": 66,
   "metadata": {},
   "outputs": [],
   "source": [
    "class SharedMem:\n",
    "    \n",
    "    def __init__(self):\n",
    "        self.mem=0\n",
    "        self.cur_owner=\"free\"\n",
    "        \n",
    "    def acquire_mem(self,cpu):\n",
    "    \n",
    "        if(self.cur_owner==\"free\"):\n",
    "            self.cur_owner=cpu\n",
    "            print \"current owner set to : \",self.cur_owner\n",
    "            return True\n",
    "    \n",
    "        elif(self.cur_owner!=\"free\" and self.cur_owner==cpu):\n",
    "            print \"this cpu is already the current owner\"\n",
    "            return True\n",
    "    \n",
    "        else:\n",
    "            print \"the mem is already acquired by: \", self.cur_owner\n",
    "            return False\n",
    "        \n",
    "    def access_mem(self,cpu,action):\n",
    "    \n",
    "         if(self.cur_owner==cpu and action==\"set_mem\"):\n",
    "            self.mem=1\n",
    "            return True\n",
    "    \n",
    "         elif(self.cur_owner==cpu and action==\"clear_mem\"):\n",
    "            self.mem=0\n",
    "            return True\n",
    "        \n",
    "         elif(self.cur_owner==\"free\" and action==\"set_mem\"):\n",
    "            self.acquire_mem(cpu)\n",
    "            self.mem=1\n",
    "            return True\n",
    "        \n",
    "         elif(self.cur_owner==\"free\" and action==\"clear_mem\"):\n",
    "            self.acquire_mem(cpu)\n",
    "            self.mem=0\n",
    "            return True\n",
    "    \n",
    "         else:\n",
    "            print \"this cpu is not the owner of mem \"\n",
    "            return False\n",
    "        \n",
    "    def release_mem(self,cpu):\n",
    "    \n",
    "        if(self.cur_owner==\"free\"):\n",
    "            print \"the ownership is already free \"\n",
    "            return True\n",
    "    \n",
    "        elif(self.cur_owner==cpu):\n",
    "            self.cur_owner=\"free\"\n",
    "            self.mem=0\n",
    "            print \"ownership released and mem cleared\"\n",
    "            return True\n",
    "        \n",
    "        else:\n",
    "            print \"this cpu is not the owner, cannot release ownership\"\n",
    "            return False\n",
    "    \n",
    "    def show_status(self):\n",
    "        print \"current owner of cpu is : \", self.cur_owner\n",
    "        print \"current value in memory bit is: \", self.mem"
   ]
  },
  {
   "cell_type": "code",
   "execution_count": 67,
   "metadata": {},
   "outputs": [],
   "source": [
    "X=SharedMem()"
   ]
  },
  {
   "cell_type": "code",
   "execution_count": 68,
   "metadata": {},
   "outputs": [
    {
     "name": "stdout",
     "output_type": "stream",
     "text": [
      "current owner of cpu is :  free\n",
      "current value in memory bit is:  0\n"
     ]
    }
   ],
   "source": [
    "X.show_status()"
   ]
  },
  {
   "cell_type": "code",
   "execution_count": 69,
   "metadata": {},
   "outputs": [
    {
     "name": "stdout",
     "output_type": "stream",
     "text": [
      "current owner set to :  c1\n"
     ]
    },
    {
     "data": {
      "text/plain": [
       "True"
      ]
     },
     "execution_count": 69,
     "metadata": {},
     "output_type": "execute_result"
    }
   ],
   "source": [
    "X.acquire_mem(\"c1\")"
   ]
  },
  {
   "cell_type": "code",
   "execution_count": 70,
   "metadata": {},
   "outputs": [
    {
     "data": {
      "text/plain": [
       "True"
      ]
     },
     "execution_count": 70,
     "metadata": {},
     "output_type": "execute_result"
    }
   ],
   "source": [
    "X.access_mem(\"c1\",\"set_mem\")"
   ]
  },
  {
   "cell_type": "code",
   "execution_count": 71,
   "metadata": {},
   "outputs": [
    {
     "name": "stdout",
     "output_type": "stream",
     "text": [
      "current owner of cpu is :  c1\n",
      "current value in memory bit is:  1\n"
     ]
    }
   ],
   "source": [
    "X.show_status()"
   ]
  },
  {
   "cell_type": "code",
   "execution_count": 72,
   "metadata": {},
   "outputs": [
    {
     "name": "stdout",
     "output_type": "stream",
     "text": [
      "ownership released and mem cleared\n"
     ]
    },
    {
     "data": {
      "text/plain": [
       "True"
      ]
     },
     "execution_count": 72,
     "metadata": {},
     "output_type": "execute_result"
    }
   ],
   "source": [
    "X.release_mem(\"c1\")"
   ]
  },
  {
   "cell_type": "code",
   "execution_count": 73,
   "metadata": {},
   "outputs": [
    {
     "name": "stdout",
     "output_type": "stream",
     "text": [
      "current owner of cpu is :  free\n",
      "current value in memory bit is:  0\n"
     ]
    }
   ],
   "source": [
    "X.show_status()"
   ]
  },
  {
   "cell_type": "code",
   "execution_count": 75,
   "metadata": {},
   "outputs": [
    {
     "name": "stdout",
     "output_type": "stream",
     "text": [
      "current owner set to :  c2\n"
     ]
    },
    {
     "data": {
      "text/plain": [
       "True"
      ]
     },
     "execution_count": 75,
     "metadata": {},
     "output_type": "execute_result"
    }
   ],
   "source": [
    "X.access_mem(\"c2\",\"set_mem\")"
   ]
  },
  {
   "cell_type": "code",
   "execution_count": 76,
   "metadata": {},
   "outputs": [
    {
     "name": "stdout",
     "output_type": "stream",
     "text": [
      "current owner of cpu is :  c2\n",
      "current value in memory bit is:  1\n"
     ]
    }
   ],
   "source": [
    "X.show_status()"
   ]
  },
  {
   "cell_type": "code",
   "execution_count": 77,
   "metadata": {},
   "outputs": [
    {
     "name": "stdout",
     "output_type": "stream",
     "text": [
      "this cpu is not the owner, cannot release ownership\n"
     ]
    },
    {
     "data": {
      "text/plain": [
       "False"
      ]
     },
     "execution_count": 77,
     "metadata": {},
     "output_type": "execute_result"
    }
   ],
   "source": [
    "X.release_mem(\"c1\")"
   ]
  },
  {
   "cell_type": "code",
   "execution_count": 78,
   "metadata": {},
   "outputs": [
    {
     "name": "stdout",
     "output_type": "stream",
     "text": [
      "the mem is already acquired by:  c2\n"
     ]
    },
    {
     "data": {
      "text/plain": [
       "False"
      ]
     },
     "execution_count": 78,
     "metadata": {},
     "output_type": "execute_result"
    }
   ],
   "source": [
    "X.acquire_mem(\"c1\")"
   ]
  },
  {
   "cell_type": "code",
   "execution_count": 79,
   "metadata": {},
   "outputs": [
    {
     "name": "stdout",
     "output_type": "stream",
     "text": [
      "ownership released and mem cleared\n"
     ]
    },
    {
     "data": {
      "text/plain": [
       "True"
      ]
     },
     "execution_count": 79,
     "metadata": {},
     "output_type": "execute_result"
    }
   ],
   "source": [
    "X.release_mem(\"c2\")"
   ]
  },
  {
   "cell_type": "code",
   "execution_count": 80,
   "metadata": {},
   "outputs": [
    {
     "name": "stdout",
     "output_type": "stream",
     "text": [
      "current owner set to :  c1\n"
     ]
    },
    {
     "data": {
      "text/plain": [
       "True"
      ]
     },
     "execution_count": 80,
     "metadata": {},
     "output_type": "execute_result"
    }
   ],
   "source": [
    "X.acquire_mem(\"c1\")"
   ]
  },
  {
   "cell_type": "code",
   "execution_count": 81,
   "metadata": {},
   "outputs": [
    {
     "name": "stdout",
     "output_type": "stream",
     "text": [
      "this cpu is not the owner of mem \n"
     ]
    },
    {
     "data": {
      "text/plain": [
       "False"
      ]
     },
     "execution_count": 81,
     "metadata": {},
     "output_type": "execute_result"
    }
   ],
   "source": [
    "X.access_mem(\"c2\",\"set_mem\")"
   ]
  },
  {
   "cell_type": "code",
   "execution_count": 82,
   "metadata": {},
   "outputs": [
    {
     "data": {
      "text/plain": [
       "True"
      ]
     },
     "execution_count": 82,
     "metadata": {},
     "output_type": "execute_result"
    }
   ],
   "source": [
    "X.access_mem(\"c1\",\"clear_mem\")"
   ]
  },
  {
   "cell_type": "code",
   "execution_count": 83,
   "metadata": {},
   "outputs": [
    {
     "name": "stdout",
     "output_type": "stream",
     "text": [
      "this cpu is not the owner of mem \n"
     ]
    },
    {
     "data": {
      "text/plain": [
       "False"
      ]
     },
     "execution_count": 83,
     "metadata": {},
     "output_type": "execute_result"
    }
   ],
   "source": [
    "X.access_mem(\"c2\",\"clear_mem\")"
   ]
  },
  {
   "cell_type": "code",
   "execution_count": 84,
   "metadata": {},
   "outputs": [
    {
     "name": "stdout",
     "output_type": "stream",
     "text": [
      "this cpu is not the owner, cannot release ownership\n"
     ]
    },
    {
     "data": {
      "text/plain": [
       "False"
      ]
     },
     "execution_count": 84,
     "metadata": {},
     "output_type": "execute_result"
    }
   ],
   "source": [
    "X.release_mem(\"c2\")"
   ]
  },
  {
   "cell_type": "code",
   "execution_count": 85,
   "metadata": {},
   "outputs": [
    {
     "name": "stdout",
     "output_type": "stream",
     "text": [
      "current owner of cpu is :  c1\n",
      "current value in memory bit is:  0\n"
     ]
    }
   ],
   "source": [
    "X.show_status()"
   ]
  },
  {
   "cell_type": "code",
   "execution_count": null,
   "metadata": {
    "collapsed": true
   },
   "outputs": [],
   "source": []
  }
 ],
 "metadata": {
  "kernelspec": {
   "display_name": "Python 2",
   "language": "python",
   "name": "python2"
  },
  "language_info": {
   "codemirror_mode": {
    "name": "ipython",
    "version": 2
   },
   "file_extension": ".py",
   "mimetype": "text/x-python",
   "name": "python",
   "nbconvert_exporter": "python",
   "pygments_lexer": "ipython2",
   "version": "2.7.12"
  }
 },
 "nbformat": 4,
 "nbformat_minor": 2
}
