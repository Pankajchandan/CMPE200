{
 "cells": [
  {
   "cell_type": "markdown",
   "metadata": {},
   "source": [
    "### This is a program to simulate tree based Pseudo-Least Recently Used(PLRU) replacement policy for an n-way set assoiative  cache"
   ]
  },
  {
   "cell_type": "code",
   "execution_count": 23,
   "metadata": {
    "collapsed": true
   },
   "outputs": [],
   "source": [
    "import math\n",
    "import numpy as np"
   ]
  },
  {
   "cell_type": "code",
   "execution_count": 30,
   "metadata": {
    "collapsed": true
   },
   "outputs": [],
   "source": [
    "# create a node class for the bit tree that is maintained for each set\n",
    "class Node(object):  \n",
    "    def __init__(self):\n",
    "        self.bit = 0\n",
    "        self.left = None\n",
    "        self.right = None"
   ]
  },
  {
   "cell_type": "markdown",
   "metadata": {},
   "source": [
    "##### Create a root node\n",
    "root = Node()\n",
    "##### Create a tree with root as root node\n",
    "tree = Tree(root)\n",
    "##### Build tree with height = logbase2 (n-ways) by calling build_tree function\n",
    "tree.build_tree(root,4)"
   ]
  },
  {
   "cell_type": "code",
   "execution_count": 49,
   "metadata": {
    "collapsed": true
   },
   "outputs": [],
   "source": [
    "class Tree(object): \n",
    "    def __init__(self,root):\n",
    "        self.root = root\n",
    "        self.height = 0\n",
    "    \n",
    "    def insert(self, root, height):\n",
    "        it = height-1\n",
    "        if it == 0:\n",
    "            return\n",
    "        root.left = Node()\n",
    "        root.right = Node()\n",
    "        self.insert(root.left,it)\n",
    "        self.insert(root.right,it)\n",
    "    \n",
    "    def build_tree(self, root, ways):\n",
    "        self.height = int(np.log2(ways))\n",
    "        self.insert(root, self.height)\n",
    "        return root"
   ]
  },
  {
   "cell_type": "markdown",
   "metadata": {},
   "source": [
    "##### build cache args: cache_size in KB, no of words per line, no of ways\n",
    "cache = CacheBuilder(4,16,4)\n",
    "##### create cache by calling create_cache() method\n",
    "cache.create_cache()\n",
    "##### access cache through the cache_dict dictionary. \n",
    "cache.cache_dict\n",
    "The dictionary has all sets and each set has one tree. Each leaf node of tree is linked to two lines of the set"
   ]
  },
  {
   "cell_type": "code",
   "execution_count": 109,
   "metadata": {
    "collapsed": true
   },
   "outputs": [],
   "source": [
    "class CacheBuilder(object):\n",
    "    # 1 word = 4bytes = 32bits\n",
    "    # cache size in KB (kilobytes)\n",
    "    # n = no of ways\n",
    "    # line_size = no of words in one line \n",
    "    # i.e line_size is the max no of intigers that can be in one line \n",
    "    # assuming one int = 32 bits or 4 bytes or 1 word\n",
    "    def __init__(self, cache_size, line_size, n):\n",
    "        self.ways = n\n",
    "        self.line_size = line_size\n",
    "        self.cache_size = cache_size\n",
    "        self.no_of_lines = (cache_size*1024)/(line_size*4)\n",
    "        if (n<=self.no_of_lines):\n",
    "            self.no_of_sets = self.no_of_lines/n\n",
    "        else:\n",
    "            self.no_of_sets = 0\n",
    "            print \"no of ways cannot be less then total no of lines\"\n",
    "        self.cache_dict = {}\n",
    "    \n",
    "    def create_cache(self):\n",
    "        if(self.no_of_sets == 0):\n",
    "            print \"cache cannot be built, reason: no of sets cannot be less then no of lines\"\n",
    "            return\n",
    "        # create a tree for each set\n",
    "        for i in range(self.no_of_sets):\n",
    "            self.cache_dict[i] = {}\n",
    "            root = Node()\n",
    "            tree = Tree(root)\n",
    "            tree.build_tree(root, self.ways)\n",
    "            self.cache_dict[i][\"tree\"] = tree\n",
    "            #create lines\n",
    "            lines = []\n",
    "            for j in range(self.ways):\n",
    "                line = []\n",
    "                lines.append(line)\n",
    "            self.cache_dict[i][\"lines\"] = lines\n",
    "        "
   ]
  },
  {
   "cell_type": "code",
   "execution_count": 113,
   "metadata": {},
   "outputs": [],
   "source": []
  }
 ],
 "metadata": {
  "kernelspec": {
   "display_name": "Python 2",
   "language": "python",
   "name": "python2"
  },
  "language_info": {
   "codemirror_mode": {
    "name": "ipython",
    "version": 2
   },
   "file_extension": ".py",
   "mimetype": "text/x-python",
   "name": "python",
   "nbconvert_exporter": "python",
   "pygments_lexer": "ipython2",
   "version": "2.7.12"
  }
 },
 "nbformat": 4,
 "nbformat_minor": 2
}
