{
 "cells": [
  {
   "cell_type": "markdown",
   "metadata": {},
   "source": [
    "### This is a program to simulate tree based Pseudo-Least Recently Used(PLRU) replacement policy for an n-way set assoiative  cache"
   ]
  },
  {
   "cell_type": "code",
   "execution_count": 23,
   "metadata": {
    "collapsed": true
   },
   "outputs": [],
   "source": [
    "import math\n",
    "import numpy as np"
   ]
  },
  {
   "cell_type": "code",
   "execution_count": 125,
   "metadata": {
    "collapsed": true
   },
   "outputs": [],
   "source": [
    "# create a node class for the bit tree that is maintained for each set\n",
    "class Node(object):  \n",
    "    def __init__(self):\n",
    "        self.bit = 0\n",
    "        self.left = None\n",
    "        self.right = None\n",
    "        self.leaf = False"
   ]
  },
  {
   "cell_type": "markdown",
   "metadata": {},
   "source": [
    "##### Create a root node\n",
    "root = Node()\n",
    "##### Create a tree with root as root node\n",
    "tree = Tree(root)\n",
    "##### Build tree with height = logbase2 (n-ways) by calling build_tree function\n",
    "tree.build_tree(root,4)"
   ]
  },
  {
   "cell_type": "code",
   "execution_count": 126,
   "metadata": {
    "collapsed": true
   },
   "outputs": [],
   "source": [
    "class Tree(object): \n",
    "    def __init__(self,root):\n",
    "        self.root = root\n",
    "        self.height = 0\n",
    "    \n",
    "    def insert(self, root, height):\n",
    "        it = height-1\n",
    "        if it == 0:\n",
    "            root.right = []\n",
    "            root.left = []\n",
    "            root.leaf = True\n",
    "            return\n",
    "        root.left = Node()\n",
    "        root.right = Node()\n",
    "        self.insert(root.left,it)\n",
    "        self.insert(root.right,it)\n",
    "    \n",
    "    def build_tree(self, root, ways):\n",
    "        self.height = int(np.log2(ways))\n",
    "        self.insert(root, self.height)\n",
    "        return root"
   ]
  },
  {
   "cell_type": "markdown",
   "metadata": {},
   "source": [
    "##### build cache args: cache_size in KB, no of words per line, no of ways\n",
    "cache = CacheBuilder(4,16,4)\n",
    "##### create cache by calling create_cache() method\n",
    "cache.create_cache()\n",
    "##### access cache through the cache_dict dictionary. \n",
    "cache.cache_dict\n",
    "The dictionary has all sets and each set has one tree. Each leaf node of tree is linked to two lines of the set"
   ]
  },
  {
   "cell_type": "code",
   "execution_count": 129,
   "metadata": {
    "collapsed": true
   },
   "outputs": [],
   "source": [
    "class CacheBuilder(object):\n",
    "    # 1 word = 4bytes = 32bits\n",
    "    # cache size in KB (kilobytes)\n",
    "    # n = no of ways\n",
    "    # line_size = no of words in one line \n",
    "    # i.e line_size is the max no of intigers that can be in one line \n",
    "    # assuming one int = 32 bits or 4 bytes or 1 word\n",
    "    def __init__(self, cache_size, line_size, n):\n",
    "        self.ways = n\n",
    "        self.line_size = line_size\n",
    "        self.cache_size = cache_size\n",
    "        self.no_of_lines = (cache_size*1024)/(line_size*4)\n",
    "        if (n<=self.no_of_lines):\n",
    "            self.no_of_sets = self.no_of_lines/n\n",
    "        else:\n",
    "            self.no_of_sets = 0\n",
    "            print \"no of ways cannot be less then total no of lines\"\n",
    "        self.cache_dict = {}\n",
    "        \n",
    "    def append_lines(self,lines,root):\n",
    "        if root.leaf == True:\n",
    "            lines.append(root.left)\n",
    "            lines.append(root.right)\n",
    "            return\n",
    "        self.append_lines(lines,root.left)\n",
    "        self.append_lines(lines,root.right)    \n",
    "        return lines\n",
    "    \n",
    "    def create_cache(self):\n",
    "        if(self.no_of_sets == 0):\n",
    "            print \"cache cannot be built, reason: no of sets cannot be less then no of lines\"\n",
    "            return\n",
    "        # create a tree for each set\n",
    "        for i in range(self.no_of_sets):\n",
    "            self.cache_dict[i] = {}\n",
    "            root = Node()\n",
    "            tree = Tree(root)\n",
    "            tree.build_tree(root, self.ways)\n",
    "            self.cache_dict[i][\"tree\"] = tree\n",
    "            #create lines\n",
    "            lines = []\n",
    "            self.cache_dict[i][\"lines\"] = self.append_lines(lines,tree.root)\n",
    "        "
   ]
  },
  {
   "cell_type": "code",
   "execution_count": 130,
   "metadata": {},
   "outputs": [],
   "source": [
    "cache = CacheBuilder(4,16,4)\n",
    "cache.create_cache()"
   ]
  },
  {
   "cell_type": "code",
   "execution_count": 131,
   "metadata": {},
   "outputs": [
    {
     "data": {
      "text/plain": [
       "{0: {'lines': [[], [], [], []], 'tree': <__main__.Tree at 0x7f9108870810>},\n",
       " 1: {'lines': [[], [], [], []], 'tree': <__main__.Tree at 0x7f9108870c90>},\n",
       " 2: {'lines': [[], [], [], []], 'tree': <__main__.Tree at 0x7f9108870d50>},\n",
       " 3: {'lines': [[], [], [], []], 'tree': <__main__.Tree at 0x7f9108870750>},\n",
       " 4: {'lines': [[], [], [], []], 'tree': <__main__.Tree at 0x7f9108870bd0>},\n",
       " 5: {'lines': [[], [], [], []], 'tree': <__main__.Tree at 0x7f9108870c50>},\n",
       " 6: {'lines': [[], [], [], []], 'tree': <__main__.Tree at 0x7f9108870990>},\n",
       " 7: {'lines': [[], [], [], []], 'tree': <__main__.Tree at 0x7f9108870fd0>},\n",
       " 8: {'lines': [[], [], [], []], 'tree': <__main__.Tree at 0x7f9108870e10>},\n",
       " 9: {'lines': [[], [], [], []], 'tree': <__main__.Tree at 0x7f911c149210>},\n",
       " 10: {'lines': [[], [], [], []], 'tree': <__main__.Tree at 0x7f910884a210>},\n",
       " 11: {'lines': [[], [], [], []], 'tree': <__main__.Tree at 0x7f910884a310>},\n",
       " 12: {'lines': [[], [], [], []], 'tree': <__main__.Tree at 0x7f910884a090>},\n",
       " 13: {'lines': [[], [], [], []], 'tree': <__main__.Tree at 0x7f910884a0d0>},\n",
       " 14: {'lines': [[], [], [], []], 'tree': <__main__.Tree at 0x7f910884a510>},\n",
       " 15: {'lines': [[], [], [], []], 'tree': <__main__.Tree at 0x7f910884a590>}}"
      ]
     },
     "execution_count": 131,
     "metadata": {},
     "output_type": "execute_result"
    }
   ],
   "source": [
    "cache.cache_dict"
   ]
  },
  {
   "cell_type": "code",
   "execution_count": 134,
   "metadata": {},
   "outputs": [],
   "source": [
    "cache.cache_dict[0][\"lines\"][0].append(10)"
   ]
  },
  {
   "cell_type": "code",
   "execution_count": 135,
   "metadata": {},
   "outputs": [
    {
     "data": {
      "text/plain": [
       "{0: {'lines': [[10], [], [], []], 'tree': <__main__.Tree at 0x7f9108870810>},\n",
       " 1: {'lines': [[], [], [], []], 'tree': <__main__.Tree at 0x7f9108870c90>},\n",
       " 2: {'lines': [[], [], [], []], 'tree': <__main__.Tree at 0x7f9108870d50>},\n",
       " 3: {'lines': [[], [], [], []], 'tree': <__main__.Tree at 0x7f9108870750>},\n",
       " 4: {'lines': [[], [], [], []], 'tree': <__main__.Tree at 0x7f9108870bd0>},\n",
       " 5: {'lines': [[], [], [], []], 'tree': <__main__.Tree at 0x7f9108870c50>},\n",
       " 6: {'lines': [[], [], [], []], 'tree': <__main__.Tree at 0x7f9108870990>},\n",
       " 7: {'lines': [[], [], [], []], 'tree': <__main__.Tree at 0x7f9108870fd0>},\n",
       " 8: {'lines': [[], [], [], []], 'tree': <__main__.Tree at 0x7f9108870e10>},\n",
       " 9: {'lines': [[], [], [], []], 'tree': <__main__.Tree at 0x7f911c149210>},\n",
       " 10: {'lines': [[], [], [], []], 'tree': <__main__.Tree at 0x7f910884a210>},\n",
       " 11: {'lines': [[], [], [], []], 'tree': <__main__.Tree at 0x7f910884a310>},\n",
       " 12: {'lines': [[], [], [], []], 'tree': <__main__.Tree at 0x7f910884a090>},\n",
       " 13: {'lines': [[], [], [], []], 'tree': <__main__.Tree at 0x7f910884a0d0>},\n",
       " 14: {'lines': [[], [], [], []], 'tree': <__main__.Tree at 0x7f910884a510>},\n",
       " 15: {'lines': [[], [], [], []], 'tree': <__main__.Tree at 0x7f910884a590>}}"
      ]
     },
     "execution_count": 135,
     "metadata": {},
     "output_type": "execute_result"
    }
   ],
   "source": [
    "cache.cache_dict"
   ]
  },
  {
   "cell_type": "code",
   "execution_count": 138,
   "metadata": {},
   "outputs": [
    {
     "data": {
      "text/plain": [
       "[10]"
      ]
     },
     "execution_count": 138,
     "metadata": {},
     "output_type": "execute_result"
    }
   ],
   "source": [
    "cache.cache_dict[0][\"tree\"].root.right.right"
   ]
  },
  {
   "cell_type": "code",
   "execution_count": null,
   "metadata": {
    "collapsed": true
   },
   "outputs": [],
   "source": []
  }
 ],
 "metadata": {
  "kernelspec": {
   "display_name": "Python 2",
   "language": "python",
   "name": "python2"
  },
  "language_info": {
   "codemirror_mode": {
    "name": "ipython",
    "version": 2
   },
   "file_extension": ".py",
   "mimetype": "text/x-python",
   "name": "python",
   "nbconvert_exporter": "python",
   "pygments_lexer": "ipython2",
   "version": "2.7.12"
  }
 },
 "nbformat": 4,
 "nbformat_minor": 2
}
